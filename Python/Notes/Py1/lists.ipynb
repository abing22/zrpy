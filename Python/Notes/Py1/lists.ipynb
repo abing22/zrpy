{
 "cells": [
  {
   "cell_type": "markdown",
   "id": "8d17575f",
   "metadata": {},
   "source": [
    "###  列表的生成"
   ]
  },
  {
   "cell_type": "code",
   "execution_count": 7,
   "id": "c9debe4b",
   "metadata": {},
   "outputs": [],
   "source": [
    "list_1 = [\"a\",\"b\",\"c\"]"
   ]
  },
  {
   "cell_type": "code",
   "execution_count": 8,
   "id": "4c93e357",
   "metadata": {},
   "outputs": [],
   "source": [
    "list_2 = list(set([1,2,3]))"
   ]
  },
  {
   "cell_type": "code",
   "execution_count": null,
   "id": "5fe5850a",
   "metadata": {},
   "outputs": [],
   "source": []
  },
  {
   "cell_type": "markdown",
   "id": "07314917",
   "metadata": {},
   "source": [
    "###  列表推导"
   ]
  },
  {
   "cell_type": "code",
   "execution_count": null,
   "id": "0cdb3944",
   "metadata": {},
   "outputs": [],
   "source": []
  }
 ],
 "metadata": {
  "kernelspec": {
   "display_name": "python37",
   "language": "python",
   "name": "python37"
  },
  "language_info": {
   "codemirror_mode": {
    "name": "ipython",
    "version": 3
   },
   "file_extension": ".py",
   "mimetype": "text/x-python",
   "name": "python",
   "nbconvert_exporter": "python",
   "pygments_lexer": "ipython3",
   "version": "3.7.10"
  }
 },
 "nbformat": 4,
 "nbformat_minor": 5
}
